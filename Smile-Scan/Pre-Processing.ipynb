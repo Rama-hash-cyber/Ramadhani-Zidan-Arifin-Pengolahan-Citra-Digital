{
 "cells": [
  {
   "cell_type": "markdown",
   "metadata": {},
   "source": [
    "# 📌 Persiapan & Konfigurasi\n",
    "Import library yang diperlukan untuk deteksi wajah dan senyum menggunakan OpenCV."
   ]
  },
  {
   "cell_type": "code",
   "metadata": {},
   "source": [
    "import cv2\n",
    "import os\n",
    "import matplotlib.pyplot as plt"
   ]
  },
  {
   "cell_type": "markdown",
   "metadata": {},
   "source": [
    "# 📁 Konfigurasi Dataset\n",
    "Buat folder penyimpanan otomatis saat senyum terdeteksi."
   ]
  },
  {
   "cell_type": "code",
   "metadata": {},
   "source": [
    "save_folder = \"hasil_smile_scan\"\n",
    "if not os.path.exists(save_folder):\n",
    "    os.makedirs(save_folder)\n",
    "print(f\"Folder '{save_folder}' siap digunakan.\")"
   ]
  },
  {
   "cell_type": "markdown",
   "metadata": {},
   "source": [
    "# 🔍 Eksplorasi Data (Live dari Webcam)\n",
    "Kita akan menangkap gambar dari webcam dan mendeteksi wajah dan senyum secara real-time."
   ]
  },
  {
   "cell_type": "code",
   "metadata": {},
   "source": [
    "# Load Haar Cascade\n",
    "face_cascade = cv2.CascadeClassifier(cv2.data.haarcascades + 'haarcascade_frontalface_default.xml')\n",
    "smile_cascade = cv2.CascadeClassifier(cv2.data.haarcascades + 'haarcascade_smile.xml')"
   ]
  },
  {
   "cell_type": "code",
   "metadata": {},
   "source": [
    "# Mulai webcam\n",
    "cap = cv2.VideoCapture(0)\n",
    "saved = False\n",
    "\n",
    "while True:\n",
    "    ret, frame = cap.read()\n",
    "    if not ret:\n",
    "        break\n",
    "\n",
    "    gray = cv2.cvtColor(frame, cv2.COLOR_BGR2GRAY)\n",
    "    faces = face_cascade.detectMultiScale(gray, 1.1, 5)\n",
    "    senyum_terdeteksi = 0\n",
    "\n",
    "    for (x, y, w, h) in faces:\n",
    "        roi_gray = gray[y:y+h, x:x+w]\n",
    "        smiles = smile_cascade.detectMultiScale(roi_gray, 1.3, 10)\n",
    "        if len(smiles) > 0 and not saved:\n",
    "            filename = os.path.join(save_folder, 'senyum_terdeteksi.jpg')\n",
    "            cv2.imwrite(filename, frame)\n",
    "            saved = True\n",
    "            print(\"📸 Gambar dengan senyum berhasil disimpan.\")\n",
    "        cv2.rectangle(frame, (x, y), (x + w, y + h), (255, 0, 0), 2)\n",
    "        for (sx, sy, sw, sh) in smiles:\n",
    "            cv2.rectangle(frame, (x + sx, y + sy), (x + sx + sw, y + sy + sh), (0, 255, 0), 2)\n",
    "\n",
    "    cv2.imshow('Smile Detector', frame)\n",
    "    if cv2.waitKey(1) & 0xFF == 32:\n",
    "        break\n",
    "\n",
    "cap.release()\n",
    "cv2.destroyAllWindows()"
   ]
  },
  {
   "cell_type": "markdown",
   "metadata": {},
   "source": [
    "# 🧼 Pre-processing\n",
    "Konversi ke grayscale, ekstraksi ROI wajah, dan simpan untuk model deteksi selanjutnya."
   ]
  },
  {
   "cell_type": "code",
   "metadata": {},
   "source": [
    "from PIL import Image\n",
    "img_path = os.path.join(save_folder, 'senyum_terdeteksi.jpg')\n",
    "if os.path.exists(img_path):\n",
    "    img = Image.open(img_path).convert('L')  # Konversi ke grayscale\n",
    "    plt.imshow(img, cmap='gray')\n",
    "    plt.title(\"Preprocessed Image (Grayscale)\")\n",
    "    plt.axis('off')\n",
    "    plt.show()\n",
    "else:\n",
    "    print(\"⚠️ Gambar tidak ditemukan untuk pre-processing.\")"
   ]
  }
 ],
 "metadata": {
  "kernelspec": {
   "display_name": "Python 3",
   "language": "python",
   "name": "python3"
  },
  "language_info": {
   "name": "python"
  }
 },
 "nbformat": 4,
 "nbformat_minor": 2
}
