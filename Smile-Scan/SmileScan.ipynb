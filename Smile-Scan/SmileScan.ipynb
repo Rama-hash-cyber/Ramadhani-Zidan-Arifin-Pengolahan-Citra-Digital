{
 "cells": [
  {
   "cell_type": "markdown",
   "id": "0c0e462d",
   "metadata": {},
   "source": [
    "# Deteksi Wajah dan Senyum dengan OpenCV\n",
    "\n",
    "Notebook ini mencakup tahapan:\n",
    "1. Persiapan dan Konfigurasi\n",
    "2. Konfigurasi Dataset (real-time dari webcam)\n",
    "3. Eksplorasi Data\n",
    "4. Pre-processing Gambar\n"
   ]
  },
  {
   "cell_type": "code",
   "execution_count": null,
   "id": "a45bc0ea",
   "metadata": {},
   "outputs": [],
   "source": [
    "\n",
    "import cv2\n",
    "import os\n",
    "\n",
    "# Load Haar Cascade\n",
    "face_cascade = cv2.CascadeClassifier(cv2.data.haarcascades + 'haarcascade_frontalface_default.xml')\n",
    "smile_cascade = cv2.CascadeClassifier(cv2.data.haarcascades + 'haarcascade_smile.xml')\n",
    "\n",
    "# Cek jika berhasil dimuat\n",
    "assert not face_cascade.empty(), \"Gagal memuat model deteksi wajah.\"\n",
    "assert not smile_cascade.empty(), \"Gagal memuat model deteksi senyum.\"\n"
   ]
  },
  {
   "cell_type": "markdown",
   "id": "a1b2c382",
   "metadata": {},
   "source": [
    "## Konfigurasi Dataset\n",
    "Dataset yang digunakan bersifat real-time, diambil dari webcam pengguna. Tidak diperlukan file dataset eksternal.\n"
   ]
  },
  {
   "cell_type": "code",
   "execution_count": null,
   "id": "8fb5d7b5",
   "metadata": {},
   "outputs": [],
   "source": [
    "\n",
    "# Buka webcam\n",
    "cap = cv2.VideoCapture(0)\n",
    "\n",
    "# Folder penyimpanan hasil deteksi senyum\n",
    "save_folder = \"hasil_smile_scan\"\n",
    "os.makedirs(save_folder, exist_ok=True)\n"
   ]
  },
  {
   "cell_type": "markdown",
   "id": "35941c67",
   "metadata": {},
   "source": [
    "## Eksplorasi Data\n",
    "Kita akan menghitung jumlah wajah dan senyum yang terdeteksi di setiap frame webcam.\n"
   ]
  },
  {
   "cell_type": "code",
   "execution_count": null,
   "id": "4a2b6709",
   "metadata": {},
   "outputs": [],
   "source": [
    "\n",
    "saved = False  # Simpan hanya satu kali\n",
    "\n",
    "while True:\n",
    "    ret, frame = cap.read()\n",
    "    if not ret:\n",
    "        break\n",
    "\n",
    "    original_frame = frame.copy()\n",
    "    gray = cv2.cvtColor(frame, cv2.COLOR_BGR2GRAY)  # Pre-processing\n",
    "\n",
    "    faces = face_cascade.detectMultiScale(gray, scaleFactor=1.1, minNeighbors=5, minSize=(30, 30))\n",
    "    wajah_terdeteksi = len(faces)\n",
    "    senyum_terdeteksi = 0\n",
    "\n",
    "    for (x, y, w, h) in faces:\n",
    "        roi_gray = gray[y:y+h, x:x+w]\n",
    "        smiles = smile_cascade.detectMultiScale(roi_gray, scaleFactor=1.3, minNeighbors=10, minSize=(20, 20))\n",
    "\n",
    "        if len(smiles) > 0 and not saved:\n",
    "            filename = os.path.join(save_folder, \"senyum_terdeteksi.jpg\")\n",
    "            cv2.imwrite(filename, original_frame)\n",
    "            saved = True\n",
    "\n",
    "        cv2.rectangle(frame, (x, y), (x + w, y + h), (255, 0, 0), 2)\n",
    "        for (sx, sy, sw, sh) in smiles:\n",
    "            cv2.rectangle(frame, (x + sx, y + sy), (x + sx + sw, y + sy + sh), (0, 255, 0), 2)\n",
    "\n",
    "    cv2.putText(frame, f'Wajah: {wajah_terdeteksi}', (10, 30), cv2.FONT_HERSHEY_SIMPLEX, 0.8, (255, 0, 0), 2)\n",
    "    cv2.putText(frame, f'Senyum: {senyum_terdeteksi}', (10, 60), cv2.FONT_HERSHEY_SIMPLEX, 0.8, (0, 255, 0), 2)\n",
    "    cv2.imshow(\"Deteksi Wajah dan Senyum\", frame)\n",
    "\n",
    "    if cv2.waitKey(1) & 0xFF == 32:\n",
    "        break\n",
    "\n",
    "cap.release()\n",
    "cv2.destroyAllWindows()\n"
   ]
  }
 ],
 "metadata": {},
 "nbformat": 4,
 "nbformat_minor": 5
}
