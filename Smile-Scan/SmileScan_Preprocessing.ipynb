{
 "cells": [
  {
   "cell_type": "markdown",
   "id": "6ea578ed",
   "metadata": {},
   "source": [
    "# Persiapan dan Konfigurasi\n",
    "Notebook ini berisi tahapan awal dalam proyek deteksi wajah dan senyum, mencakup:\n",
    "- Persiapan lingkungan\n",
    "- Instalasi pustaka\n",
    "- Pemrosesan data awal (preprocessing)\n"
   ]
  },
  {
   "cell_type": "code",
   "execution_count": null,
   "id": "598984d1",
   "metadata": {},
   "outputs": [],
   "source": [
    "import cv2\n",
    "import os\n",
    "import numpy as np\n",
    "import matplotlib.pyplot as plt\n",
    "\n",
    "# Mengecek versi OpenCV\n",
    "print(\"OpenCV version:\", cv2.__version__)"
   ]
  },
  {
   "cell_type": "markdown",
   "id": "c25c24a4",
   "metadata": {},
   "source": [
    "## Konfigurasi Dataset\n",
    "Menentukan folder penyimpanan untuk hasil deteksi."
   ]
  },
  {
   "cell_type": "code",
   "execution_count": null,
   "id": "42880f52",
   "metadata": {},
   "outputs": [],
   "source": [
    "# Membuat folder hasil jika belum ada\n",
    "save_folder = \"hasil_senyum\"\n",
    "if not os.path.exists(save_folder):\n",
    "    os.makedirs(save_folder)\n",
    "print(f\"Folder '{save_folder}' siap digunakan.\")"
   ]
  },
  {
   "cell_type": "markdown",
   "id": "7b04c199",
   "metadata": {},
   "source": [
    "## Eksplorasi Data\n",
    "Melakukan pembacaan frame dari webcam dan menampilkan jumlah deteksi wajah serta senyum."
   ]
  },
  {
   "cell_type": "code",
   "execution_count": null,
   "id": "73d9205e",
   "metadata": {},
   "outputs": [],
   "source": [
    "# Load Haar Cascade\n",
    "face_cascade = cv2.CascadeClassifier(cv2.data.haarcascades + 'haarcascade_frontalface_default.xml')\n",
    "smile_cascade = cv2.CascadeClassifier(cv2.data.haarcascades + 'haarcascade_smile.xml')\n",
    "\n",
    "# Uji satu frame dari webcam\n",
    "cap = cv2.VideoCapture(0)\n",
    "ret, frame = cap.read()\n",
    "if ret:\n",
    "    gray = cv2.cvtColor(frame, cv2.COLOR_BGR2GRAY)\n",
    "    faces = face_cascade.detectMultiScale(gray, 1.1, 5)\n",
    "    print(f\"Wajah terdeteksi: {len(faces)}\")\n",
    "    for (x, y, w, h) in faces:\n",
    "        roi_gray = gray[y:y+h, x:x+w]\n",
    "        smiles = smile_cascade.detectMultiScale(roi_gray, 1.3, 10)\n",
    "        print(f\"  Senyum terdeteksi: {len(smiles)}\")\n",
    "    cap.release()\n",
    "else:\n",
    "    print(\"Gagal membaca dari kamera.\")\n"
   ]
  },
  {
   "cell_type": "markdown",
   "id": "469a00a7",
   "metadata": {},
   "source": [
    "## Pre-processing\n",
    "Melakukan konversi ke grayscale dan menyimpan frame asli tanpa anotasi jika senyum terdeteksi."
   ]
  },
  {
   "cell_type": "code",
   "execution_count": null,
   "id": "943aeee5",
   "metadata": {},
   "outputs": [],
   "source": [
    "# Ulangi capture untuk menyimpan jika senyum terdeteksi\n",
    "cap = cv2.VideoCapture(0)\n",
    "saved = False\n",
    "while not saved:\n",
    "    ret, frame = cap.read()\n",
    "    if not ret:\n",
    "        break\n",
    "    original = frame.copy()\n",
    "    gray = cv2.cvtColor(frame, cv2.COLOR_BGR2GRAY)\n",
    "    faces = face_cascade.detectMultiScale(gray, 1.1, 5)\n",
    "    for (x, y, w, h) in faces:\n",
    "        roi_gray = gray[y:y+h, x:x+w]\n",
    "        smiles = smile_cascade.detectMultiScale(roi_gray, 1.3, 10)\n",
    "        if len(smiles) > 0:\n",
    "            filename = os.path.join(save_folder, \"senyum_terdeteksi.jpg\")\n",
    "            cv2.imwrite(filename, original)\n",
    "            saved = True\n",
    "            print(f\"Gambar disimpan: {filename}\")\n",
    "            break\n",
    "cap.release()\n",
    "cv2.destroyAllWindows()\n"
   ]
  }
 ],
 "metadata": {},
 "nbformat": 4,
 "nbformat_minor": 5
}